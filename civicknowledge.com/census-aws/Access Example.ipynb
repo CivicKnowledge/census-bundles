{
 "cells": [
  {
   "cell_type": "code",
   "execution_count": 20,
   "metadata": {
    "collapsed": true
   },
   "outputs": [],
   "source": [
    "from ambry import library\n",
    "l = library()\n",
    "b = l.get('census.gov-acs-p5ye2013')\n",
    "geo = l.get('census.gov-acs-geo-p5ye2013-geofile').partition"
   ]
  },
  {
   "cell_type": "code",
   "execution_count": 26,
   "metadata": {
    "collapsed": false
   },
   "outputs": [],
   "source": [
    "partitions = []\n",
    "\n",
    "for p in b.partitions.all:\n",
    "    partitions.append({\n",
    "            \"partition\": str(p.name),\n",
    "            \"table\": p.table.name\n",
    "        })"
   ]
  },
  {
   "cell_type": "code",
   "execution_count": 25,
   "metadata": {
    "collapsed": false
   },
   "outputs": [
    {
     "name": "stdout",
     "output_type": "stream",
     "text": [
      "/p5Ye2013/40/00/b08406.csv\n",
      "/p5Ye2013/40/01/b08406.csv\n",
      "/p5Ye2013/40/43/b08406.csv\n",
      "/p5Ye2013/40/A0/b08406.csv\n",
      "/p5Ye2013/40/C0/b08406.csv\n",
      "/p5Ye2013/40/C1/b08406.csv\n",
      "/p5Ye2013/40/C2/b08406.csv\n",
      "/p5Ye2013/40/E0/b08406.csv\n",
      "/p5Ye2013/40/E1/b08406.csv\n",
      "/p5Ye2013/40/E2/b08406.csv\n",
      "/p5Ye2013/40/G0/b08406.csv\n",
      "/p5Ye2013/40/H0/b08406.csv\n",
      "/p5Ye2013/50/b08406.csv\n",
      "/p5Ye2013/50/b08406.csv\n",
      "/p5Ye2013/50/b08406.csv\n",
      "/p5Ye2013/50/b08406.csv\n",
      "/p5Ye2013/50/b08406.csv\n",
      "/p5Ye2013/50/b08406.csv\n",
      "/p5Ye2013/50/b08406.csv\n",
      "/p5Ye2013/50/b08406.csv\n",
      "/p5Ye2013/50/b08406.csv\n",
      "/p5Ye2013/50/b08406.csv\n",
      "/p5Ye2013/50/b08406.csv\n",
      "/p5Ye2013/50/b08406.csv\n",
      "/p5Ye2013/50/b08406.csv\n",
      "/p5Ye2013/50/b08406.csv\n",
      "/p5Ye2013/50/b08406.csv\n",
      "/p5Ye2013/50/b08406.csv\n",
      "/p5Ye2013/50/b08406.csv\n",
      "/p5Ye2013/50/b08406.csv\n",
      "/p5Ye2013/50/b08406.csv\n",
      "/p5Ye2013/50/b08406.csv\n",
      "/p5Ye2013/50/b08406.csv\n",
      "/p5Ye2013/50/b08406.csv\n",
      "/p5Ye2013/50/b08406.csv\n",
      "/p5Ye2013/50/b08406.csv\n",
      "/p5Ye2013/50/b08406.csv\n",
      "/p5Ye2013/50/b08406.csv\n",
      "/p5Ye2013/50/b08406.csv\n",
      "/p5Ye2013/50/b08406.csv\n",
      "/p5Ye2013/50/b08406.csv\n",
      "/p5Ye2013/50/b08406.csv\n",
      "/p5Ye2013/50/b08406.csv\n",
      "/p5Ye2013/50/b08406.csv\n",
      "/p5Ye2013/50/b08406.csv\n",
      "/p5Ye2013/50/b08406.csv\n",
      "/p5Ye2013/50/b08406.csv\n",
      "/p5Ye2013/50/b08406.csv\n",
      "/p5Ye2013/50/b08406.csv\n",
      "/p5Ye2013/50/b08406.csv\n",
      "/p5Ye2013/50/b08406.csv\n"
     ]
    }
   ],
   "source": [
    "span = 5\n",
    "year = 2013 \n",
    "\n",
    "table = 'b08406'\n",
    "\n",
    "p = l.get('census.gov-acs-p5ye2013-{}'.format(table)).partition\n",
    "p.attach(geo,'geo')\n",
    "\n",
    "q = \"\"\"\n",
    "SELECT * FROM geo.geofile AS geo\n",
    "LEFT JOIN {} AS t ON t.logrecno = geo.logrecno  AND t.stusab = geo.stusab\n",
    "\"\"\".format(p.table.name)\n",
    "\n",
    "path_t_40 = \"/p{span}Ye{year}/{sumlev}/{comp}/{table}.csv\"\n",
    "path_t =    \"/p{span}Ye{year}/{sumlev}/{table}.csv\"\n",
    "\n",
    "for i, row in enumerate(p.query(q)):\n",
    "    if i>50:\n",
    "        break\n",
    "        \n",
    "    tmpl = path_t_40 if row.sumlevel == 40 else path_t\n",
    "     \n",
    "    path = tmpl.format(sumlev=row.sumlevel, comp=row.component , span=span, year = year, table = table)\n",
    "        \n",
    "    print path\n",
    "    \n",
    "p.detach('geo')"
   ]
  },
  {
   "cell_type": "code",
   "execution_count": null,
   "metadata": {
    "collapsed": true
   },
   "outputs": [],
   "source": []
  }
 ],
 "metadata": {
  "kernelspec": {
   "display_name": "Python 2",
   "language": "python",
   "name": "python2"
  },
  "language_info": {
   "codemirror_mode": {
    "name": "ipython",
    "version": 2
   },
   "file_extension": ".py",
   "mimetype": "text/x-python",
   "name": "python",
   "nbconvert_exporter": "python",
   "pygments_lexer": "ipython2",
   "version": "2.7.6"
  }
 },
 "nbformat": 4,
 "nbformat_minor": 0
}

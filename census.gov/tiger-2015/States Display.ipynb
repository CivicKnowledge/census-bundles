{
    "nbformat_minor": 0, 
    "nbformat": 4, 
    "cells": [
        {
            "source": [
                "# Tiger County and State Boundaries\n", 
                "\n", 
                "Tiger County and State Boundaries\n"
            ], 
            "cell_type": "markdown", 
            "metadata": {}
        }, 
        {
            "execution_count": null, 
            "cell_type": "code", 
            "source": [
                "from ambry import get_library\n", 
                "l = get_library()\n", 
                "b = l.bundle('census.gov-tiger-statecounty-2015-0.0.1')"
            ], 
            "outputs": [], 
            "metadata": {}
        }, 
        {
            "execution_count": null, 
            "cell_type": "code", 
            "source": [
                ""
            ], 
            "outputs": [], 
            "metadata": {}
        }
    ], 
    "metadata": {
        "kernelspec": {
            "display_name": "Python 2", 
            "name": "python2", 
            "language": "python"
        }, 
        "ambry": {
            "identity": {
                "subset": "statecounty", 
                "vid": "d04M001", 
                "name": "census.gov-tiger-statecounty-2015", 
                "vname": "census.gov-tiger-statecounty-2015-0.0.1", 
                "dataset": "tiger", 
                "btime": "2015", 
                "source": "census.gov", 
                "version": "0.0.1", 
                "cache_key": "census.gov/tiger-statecounty-2015-0.0.1", 
                "id": "d04M", 
                "revision": 1
            }
        }, 
        "language_info": {
            "mimetype": "text/x-python", 
            "nbconvert_exporter": "python", 
            "name": "python", 
            "file_extension": ".py", 
            "version": "2.7.10", 
            "pygments_lexer": "ipython2", 
            "codemirror_mode": {
                "version": 2.0, 
                "name": "ipython"
            }
        }
    }
}